{
 "cells": [
  {
   "cell_type": "code",
   "execution_count": 4,
   "metadata": {},
   "outputs": [
    {
     "name": "stdout",
     "output_type": "stream",
     "text": [
      "7\n"
     ]
    }
   ],
   "source": [
    "'''\n",
    "LESSER OF TWO EVENS: Write a function that returns the lesser of two given numbers if both numbers are even, but returns the greater if one or both numbers are odd\n",
    "lesser_of_two_evens(2,4) --> 2\n",
    "lesser_of_two_evens(2,5) --> 5\n",
    "'''\n",
    "\n",
    "def WarmUp1(num1,num2):\n",
    "    if num1%2==0 and num2%2==0:\n",
    "        if num1>num2:\n",
    "            return num2\n",
    "        else:\n",
    "            return num1\n",
    "        \n",
    "        # return min(num1,num2)\n",
    "    else:\n",
    "        if num1>num2:\n",
    "            return num1\n",
    "        else:\n",
    "            return num2\n",
    "        # return max(num1,num2)\n",
    "\n",
    "result=WarmUp1(5,7)\n",
    "print(result)\n",
    "    "
   ]
  },
  {
   "cell_type": "code",
   "execution_count": 11,
   "metadata": {},
   "outputs": [
    {
     "name": "stdout",
     "output_type": "stream",
     "text": [
      "True\n"
     ]
    }
   ],
   "source": [
    "'''\n",
    "\n",
    "ANIMAL CRACKERS: Write a function takes a two-word string and returns True if both words begin with same letter\n",
    "animal_crackers('Levelheaded Llama') --> True\n",
    "animal_crackers('Crazy Kangaroo') --> False\n",
    "'''\n",
    "\n",
    "def animal_crackers(str1):\n",
    "    list1=str1.split()\n",
    "    \n",
    "    if list1[0][0].lower()==list1[1][0].lower():\n",
    "        return True\n",
    "    else:\n",
    "        return False\n",
    "\n",
    "result=animal_crackers('Levelheaded lama')\n",
    "print(result)\n",
    "\n"
   ]
  },
  {
   "cell_type": "code",
   "execution_count": 14,
   "metadata": {},
   "outputs": [
    {
     "name": "stdout",
     "output_type": "stream",
     "text": [
      "False\n"
     ]
    }
   ],
   "source": [
    "'''\n",
    "MAKES TWENTY: Given two integers, return True if the sum of the integers is 20 or if one of the integers is 20. If not, return False\n",
    "makes_twenty(20,10) --> True\n",
    "makes_twenty(12,8) --> True\n",
    "makes_twenty(2,3) --> False\n",
    "'''\n",
    "\n",
    "def makes_twenty(num1,num2):\n",
    "    if(num1==20 or num2==20) or (num1+num2==20):\n",
    "        return True\n",
    "    else:\n",
    "        return False\n",
    "    \n",
    "    # return num1==20 or num2==20 or (num1+num2)==20\n",
    "    \n",
    "result=makes_twenty(2,3)\n",
    "print(result)"
   ]
  },
  {
   "cell_type": "code",
   "execution_count": 18,
   "metadata": {},
   "outputs": [
    {
     "name": "stdout",
     "output_type": "stream",
     "text": [
      "MacDonald\n"
     ]
    }
   ],
   "source": [
    "'''\n",
    "\n",
    "OLD MACDONALD: Write a function that capitalizes the first and fourth letters of a name\n",
    "old_macdonald('macdonald') --> MacDonald\n",
    "\n",
    "Note: 'macdonald'.capitalize() returns 'Macdonald'\n",
    "'''\n",
    "\n",
    "def old_macdonald(name):\n",
    "    a=name[:3]\n",
    "    b=name[3:]\n",
    "    return a.capitalize()+b.capitalize()\n",
    "# can be done using upper function also\n",
    "\n",
    "result=old_macdonald('macdonald')\n",
    "print(result)\n"
   ]
  },
  {
   "cell_type": "code",
   "execution_count": 102,
   "metadata": {},
   "outputs": [
    {
     "name": "stdout",
     "output_type": "stream",
     "text": [
      "reay are We\n"
     ]
    }
   ],
   "source": [
    "'''\n",
    "MASTER YODA: Given a sentence, return a sentence with the words reversed\n",
    "master_yoda('I am home') --> 'home am I'\n",
    "master_yoda('We are ready') --> 'ready are We'\n",
    "\n",
    "Note: The .join() method may be useful here. The .join() method allows you to join together strings in a list with some connector string. For example, some uses of the .join() method:\n",
    "\n",
    ">>> \"--\".join(['a','b','c'])\n",
    ">>> 'a--b--c'\n",
    "\n",
    "This means if you had a list of words you wanted to turn back into a sentence, you could just join them with a single space string:\n",
    "\n",
    ">>> \" \".join(['Hello','world'])\n",
    ">>> \"Hello world\"\n",
    "'''\n",
    "\n",
    "def master_yoda(str):\n",
    "    list1=str.split()\n",
    "    list1.reverse()\n",
    "    str1=''\n",
    "    \n",
    "    \n",
    "    for words in list1:\n",
    "        str1=str1+words+' '\n",
    "    return str1[:len(str)]\n",
    "\n",
    "\n",
    "\n",
    "    # or return ' '.join(list1)\n",
    "\n",
    "\n",
    "result=master_yoda('We are ready')\n",
    "print(result)"
   ]
  },
  {
   "cell_type": "code",
   "execution_count": 109,
   "metadata": {},
   "outputs": [
    {
     "name": "stdout",
     "output_type": "stream",
     "text": [
      "False\n"
     ]
    }
   ],
   "source": [
    "'''\n",
    "ALMOST THERE: Given an integer n, return True if n is within 10 of either 100 or 200\n",
    "almost_there(90) --> True\n",
    "almost_there(104) --> True\n",
    "almost_there(150) --> False\n",
    "almost_there(209) --> True\n",
    "def almost_there(num)\n",
    "NOTE: abs(num) returns the absolute value of a number\n",
    "'''\n",
    "\n",
    "def almost_there(num):\n",
    "    if (num<(200+11) and num>(200-11)) or (num<(100+11) and num>(100-11)):\n",
    "        return True\n",
    "    else:\n",
    "        return False\n",
    "    \n",
    "    # or return abs(200-n)<=10 or abs(100-n)<=10\n",
    "                                           \n",
    "result=almost_there(209)\n",
    "print(result)"
   ]
  },
  {
   "cell_type": "code",
   "execution_count": 65,
   "metadata": {},
   "outputs": [
    {
     "name": "stdout",
     "output_type": "stream",
     "text": [
      "True\n"
     ]
    }
   ],
   "source": [
    "'''\n",
    "\n",
    "FIND 33:\n",
    "Given a list of ints, return True if the array contains a 3 next to a 3 somewhere.\n",
    "\n",
    "has_33([1, 3, 3]) → True\n",
    "has_33([1, 3, 1, 3]) → False\n",
    "has_33([3, 1, 3]) → False\n",
    "'''\n",
    "def has_33(list1):\n",
    "    a=0\n",
    "    for index in range(len(list1)-1):\n",
    "        if(list1[index]==3 and list1[index+1]==3):\n",
    "            #if list1[index:index+2]==[3,3]\n",
    "            a=1\n",
    "            break\n",
    "        else:\n",
    "            a=0\n",
    "            \n",
    "    if a==1:\n",
    "        return True\n",
    "    else:\n",
    "        return False\n",
    "    # can be done without break, return true at break and return false outsie for loop\n",
    " \n",
    "result=has_33([1, 3, 3,1,3,1])\n",
    "print(result)\n"
   ]
  },
  {
   "cell_type": "code",
   "execution_count": 67,
   "metadata": {},
   "outputs": [
    {
     "name": "stdout",
     "output_type": "stream",
     "text": [
      "MMMiiissssssiiissssssiiippppppiii\n"
     ]
    }
   ],
   "source": [
    "'''\n",
    "\n",
    "PAPER DOLL: Given a string, return a string where for every character in the original there are three characters\n",
    "paper_doll('Hello') --> 'HHHeeellllllooo'\n",
    "paper_doll('Mississippi') --> 'MMMiiissssssiiippppppiii'\n",
    "\n",
    "'''\n",
    "\n",
    "def paper_doll(word):\n",
    "    new_word=''\n",
    "    for i in word:\n",
    "        new_word=new_word+i+i+i\n",
    "    return new_word\n",
    "\n",
    "result=paper_doll('Mississippi')\n",
    "print(result)"
   ]
  },
  {
   "cell_type": "code",
   "execution_count": 71,
   "metadata": {},
   "outputs": [
    {
     "name": "stdout",
     "output_type": "stream",
     "text": [
      "19\n"
     ]
    }
   ],
   "source": [
    "'''\n",
    "\n",
    "BLACKJACK: Given three integers between 1 and 11, if their sum is less than or equal to 21, return their sum. If their sum exceeds 21 and there's an eleven, reduce the total sum by 10. Finally, if the sum (even after adjustment) exceeds 21, return 'BUST'\n",
    "blackjack(5,6,7) --> 18\n",
    "blackjack(9,9,9) --> 'BUST'\n",
    "blackjack(9,9,11) --> 19\n",
    "\n",
    "'''\n",
    "def blackjack(num1,num2,num3):\n",
    "    if (num1+num2+num3)<=21:\n",
    "        return (num1+num2+num3)\n",
    "    elif (num1+num2+num3)>21 and (num1==11 or num2==11 or num3==11):\n",
    "        return (num1+num2+num3)-10\n",
    "    elif (num1+num2+num3)>21 and (num1!=11 and num2!=11 and num3!=11):\n",
    "        return 'BUST'\n",
    "\n",
    "result=blackjack(9,9,11)\n",
    "print(result)"
   ]
  },
  {
   "cell_type": "code",
   "execution_count": 91,
   "metadata": {},
   "outputs": [
    {
     "name": "stdout",
     "output_type": "stream",
     "text": [
      "19\n"
     ]
    }
   ],
   "source": [
    "'''\n",
    "SUMMER OF '69: Return the sum of the numbers in the array, except ignore sections of numbers starting with a 6 and extending to the next 9 (every 6 will be followed by at least one 9). Return 0 for no numbers.\n",
    "summer_69([1, 3, 5]) --> 9\n",
    "summer_69([4, 5, 6, 7, 8, 9]) --> 9\n",
    "summer_69([2, 1, 6, 9, 11]) --> 14\n",
    "\n",
    "'''\n",
    "\n",
    "def summer_69(arr):\n",
    "    sum1=0\n",
    "    sum2=0\n",
    "    a=0\n",
    "    b=0\n",
    "    for index in range(0,len(arr)):\n",
    "        if(arr[index]!=6):\n",
    "            sum1=sum1+arr[index]\n",
    "        if(arr[index]==6):\n",
    "            a=1\n",
    "            break\n",
    "            \n",
    "    for index in range(len(arr)-1,0,-1): \n",
    "        if(arr[index]!=9):\n",
    "            sum2=sum2+arr[index]\n",
    "        if(arr[index]==9):\n",
    "            b=1\n",
    "            break\n",
    "            \n",
    "\n",
    "    if a==1 and b==1:\n",
    "        return sum1+sum2\n",
    "    elif a==0 or b==0:\n",
    "        return sum1\n",
    "    \n",
    "result=summer_69([8,0,7,4])\n",
    "print(result)\n",
    "        \n",
    "        "
   ]
  },
  {
   "cell_type": "code",
   "execution_count": 99,
   "metadata": {},
   "outputs": [
    {
     "name": "stdout",
     "output_type": "stream",
     "text": [
      "False\n"
     ]
    }
   ],
   "source": [
    "'''\n",
    "\n",
    "SPY GAME: Write a function that takes in a list of integers and returns True if it contains 007 in order\n",
    " spy_game([1,2,4,0,0,7,5]) --> True\n",
    " spy_game([1,0,2,4,0,5,7]) --> True\n",
    " spy_game([1,7,2,0,4,5,0]) --> False\n",
    "'''\n",
    "def spy_game(list1):\n",
    "    flag=0\n",
    "    a=0\n",
    "    b=0\n",
    "    \n",
    "        \n",
    "    for index in range(0,len(list1)):\n",
    "        if(list1[index]==0 and list1[index]!=7):\n",
    "            a=index\n",
    "            break\n",
    "    \n",
    "    for index in range(a,len(list1)):\n",
    "         if(list1[index]==0 and list1[index]!=7):\n",
    "            b=index\n",
    "            break\n",
    "            \n",
    "    for index in range(b,len(list1)):\n",
    "        if(list1[index]==7 and list1[index]!=0):\n",
    "            flag=2\n",
    "            break\n",
    "\n",
    "    if flag==1:\n",
    "        return True\n",
    "    elif flag==2:\n",
    "        return False    \n",
    "\n",
    "'''\n",
    "    for index in range(0,len(list1)):\n",
    "        if(list1[index]==7 and list1[index]!=0):\n",
    "            flag=1\n",
    "            break\n",
    "'''    \n",
    "\n",
    "    \n",
    "\n",
    "\n",
    "    \n",
    "\n",
    "result=spy_game([1,2,4,0,0,7,5])\n",
    "print(result)\n",
    "        "
   ]
  },
  {
   "cell_type": "code",
   "execution_count": null,
   "metadata": {
    "collapsed": true
   },
   "outputs": [],
   "source": []
  }
 ],
 "metadata": {
  "kernelspec": {
   "display_name": "Python 3",
   "language": "python",
   "name": "python3"
  },
  "language_info": {
   "codemirror_mode": {
    "name": "ipython",
    "version": 3
   },
   "file_extension": ".py",
   "mimetype": "text/x-python",
   "name": "python",
   "nbconvert_exporter": "python",
   "pygments_lexer": "ipython3",
   "version": "3.6.2"
  }
 },
 "nbformat": 4,
 "nbformat_minor": 2
}
